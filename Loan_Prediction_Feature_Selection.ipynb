{
 "cells": [
  {
   "cell_type": "code",
   "execution_count": 1,
   "metadata": {
    "colab": {
     "base_uri": "https://localhost:8080/",
     "height": 288
    },
    "id": "A02QMk91GdCo",
    "outputId": "14b1e8da-8105-4bd9-84fc-a77955898fd2"
   },
   "outputs": [
    {
     "data": {
      "text/html": [
       "<div>\n",
       "<style scoped>\n",
       "    .dataframe tbody tr th:only-of-type {\n",
       "        vertical-align: middle;\n",
       "    }\n",
       "\n",
       "    .dataframe tbody tr th {\n",
       "        vertical-align: top;\n",
       "    }\n",
       "\n",
       "    .dataframe thead th {\n",
       "        text-align: right;\n",
       "    }\n",
       "</style>\n",
       "<table border=\"1\" class=\"dataframe\">\n",
       "  <thead>\n",
       "    <tr style=\"text-align: right;\">\n",
       "      <th></th>\n",
       "      <th>Loan_ID</th>\n",
       "      <th>Gender</th>\n",
       "      <th>Married</th>\n",
       "      <th>Dependents</th>\n",
       "      <th>Education</th>\n",
       "      <th>Self_Employed</th>\n",
       "      <th>ApplicantIncome</th>\n",
       "      <th>CoapplicantIncome</th>\n",
       "      <th>LoanAmount</th>\n",
       "      <th>Loan_Amount_Term</th>\n",
       "      <th>Credit_History</th>\n",
       "      <th>Property_Area</th>\n",
       "      <th>Loan_Status</th>\n",
       "    </tr>\n",
       "  </thead>\n",
       "  <tbody>\n",
       "    <tr>\n",
       "      <th>0</th>\n",
       "      <td>LP001002</td>\n",
       "      <td>Male</td>\n",
       "      <td>No</td>\n",
       "      <td>0</td>\n",
       "      <td>Graduate</td>\n",
       "      <td>No</td>\n",
       "      <td>5849</td>\n",
       "      <td>0.0</td>\n",
       "      <td>NaN</td>\n",
       "      <td>360.0</td>\n",
       "      <td>1.0</td>\n",
       "      <td>Urban</td>\n",
       "      <td>Y</td>\n",
       "    </tr>\n",
       "    <tr>\n",
       "      <th>1</th>\n",
       "      <td>LP001003</td>\n",
       "      <td>Male</td>\n",
       "      <td>Yes</td>\n",
       "      <td>1</td>\n",
       "      <td>Graduate</td>\n",
       "      <td>No</td>\n",
       "      <td>4583</td>\n",
       "      <td>1508.0</td>\n",
       "      <td>128.0</td>\n",
       "      <td>360.0</td>\n",
       "      <td>1.0</td>\n",
       "      <td>Rural</td>\n",
       "      <td>N</td>\n",
       "    </tr>\n",
       "    <tr>\n",
       "      <th>2</th>\n",
       "      <td>LP001005</td>\n",
       "      <td>Male</td>\n",
       "      <td>Yes</td>\n",
       "      <td>0</td>\n",
       "      <td>Graduate</td>\n",
       "      <td>Yes</td>\n",
       "      <td>3000</td>\n",
       "      <td>0.0</td>\n",
       "      <td>66.0</td>\n",
       "      <td>360.0</td>\n",
       "      <td>1.0</td>\n",
       "      <td>Urban</td>\n",
       "      <td>Y</td>\n",
       "    </tr>\n",
       "    <tr>\n",
       "      <th>3</th>\n",
       "      <td>LP001006</td>\n",
       "      <td>Male</td>\n",
       "      <td>Yes</td>\n",
       "      <td>0</td>\n",
       "      <td>Not Graduate</td>\n",
       "      <td>No</td>\n",
       "      <td>2583</td>\n",
       "      <td>2358.0</td>\n",
       "      <td>120.0</td>\n",
       "      <td>360.0</td>\n",
       "      <td>1.0</td>\n",
       "      <td>Urban</td>\n",
       "      <td>Y</td>\n",
       "    </tr>\n",
       "    <tr>\n",
       "      <th>4</th>\n",
       "      <td>LP001008</td>\n",
       "      <td>Male</td>\n",
       "      <td>No</td>\n",
       "      <td>0</td>\n",
       "      <td>Graduate</td>\n",
       "      <td>No</td>\n",
       "      <td>6000</td>\n",
       "      <td>0.0</td>\n",
       "      <td>141.0</td>\n",
       "      <td>360.0</td>\n",
       "      <td>1.0</td>\n",
       "      <td>Urban</td>\n",
       "      <td>Y</td>\n",
       "    </tr>\n",
       "  </tbody>\n",
       "</table>\n",
       "</div>"
      ],
      "text/plain": [
       "    Loan_ID Gender Married Dependents     Education Self_Employed  \\\n",
       "0  LP001002   Male      No          0      Graduate            No   \n",
       "1  LP001003   Male     Yes          1      Graduate            No   \n",
       "2  LP001005   Male     Yes          0      Graduate           Yes   \n",
       "3  LP001006   Male     Yes          0  Not Graduate            No   \n",
       "4  LP001008   Male      No          0      Graduate            No   \n",
       "\n",
       "   ApplicantIncome  CoapplicantIncome  LoanAmount  Loan_Amount_Term  \\\n",
       "0             5849                0.0         NaN             360.0   \n",
       "1             4583             1508.0       128.0             360.0   \n",
       "2             3000                0.0        66.0             360.0   \n",
       "3             2583             2358.0       120.0             360.0   \n",
       "4             6000                0.0       141.0             360.0   \n",
       "\n",
       "   Credit_History Property_Area Loan_Status  \n",
       "0             1.0         Urban           Y  \n",
       "1             1.0         Rural           N  \n",
       "2             1.0         Urban           Y  \n",
       "3             1.0         Urban           Y  \n",
       "4             1.0         Urban           Y  "
      ]
     },
     "execution_count": 1,
     "metadata": {},
     "output_type": "execute_result"
    }
   ],
   "source": [
    "import pandas as pd\n",
    "import numpy as np\n",
    "\n",
    "df = pd.read_csv(\"Loan_Data.csv\")\n",
    "df.head()"
   ]
  },
  {
   "cell_type": "code",
   "execution_count": 4,
   "metadata": {
    "colab": {
     "base_uri": "https://localhost:8080/"
    },
    "id": "phcBHgicImxC",
    "outputId": "6b5a055e-4d66-4148-b43a-84562cbff023"
   },
   "outputs": [
    {
     "data": {
      "text/plain": [
       "Loan_ID               object\n",
       "Gender                object\n",
       "Married               object\n",
       "Dependents            object\n",
       "Education             object\n",
       "Self_Employed         object\n",
       "ApplicantIncome        int64\n",
       "CoapplicantIncome    float64\n",
       "LoanAmount           float64\n",
       "Loan_Amount_Term     float64\n",
       "Credit_History       float64\n",
       "Property_Area         object\n",
       "Loan_Status           object\n",
       "dtype: object"
      ]
     },
     "execution_count": 4,
     "metadata": {},
     "output_type": "execute_result"
    }
   ],
   "source": [
    "df.dtypes"
   ]
  },
  {
   "cell_type": "code",
   "execution_count": 2,
   "metadata": {
    "colab": {
     "base_uri": "https://localhost:8080/"
    },
    "id": "WmLPHDjhK7s2",
    "outputId": "3df70cae-801d-460e-8e98-19cfa6e618a0"
   },
   "outputs": [
    {
     "name": "stdout",
     "output_type": "stream",
     "text": [
      "Property Area: ['Urban' 'Rural' 'Semiurban']\n",
      "Dependents:  ['0' '1' '2' '3+' nan]\n"
     ]
    }
   ],
   "source": [
    "print(\"Property Area:\", df.Property_Area.unique())\n",
    "print(\"Dependents: \", df.Dependents.unique())\n",
    "df = df.drop(['Loan_ID'], axis=1)"
   ]
  },
  {
   "cell_type": "markdown",
   "metadata": {
    "id": "0E2aC8MPIv5y"
   },
   "source": [
    "**Convert string values into integer**"
   ]
  },
  {
   "cell_type": "code",
   "execution_count": 3,
   "metadata": {
    "colab": {
     "base_uri": "https://localhost:8080/",
     "height": 488
    },
    "id": "FX_DxvcdIsVs",
    "outputId": "fea6e017-6758-4fad-c7ba-d11f16a8b04d"
   },
   "outputs": [
    {
     "data": {
      "text/html": [
       "<div>\n",
       "<style scoped>\n",
       "    .dataframe tbody tr th:only-of-type {\n",
       "        vertical-align: middle;\n",
       "    }\n",
       "\n",
       "    .dataframe tbody tr th {\n",
       "        vertical-align: top;\n",
       "    }\n",
       "\n",
       "    .dataframe thead th {\n",
       "        text-align: right;\n",
       "    }\n",
       "</style>\n",
       "<table border=\"1\" class=\"dataframe\">\n",
       "  <thead>\n",
       "    <tr style=\"text-align: right;\">\n",
       "      <th></th>\n",
       "      <th>Gender</th>\n",
       "      <th>Married</th>\n",
       "      <th>Dependents</th>\n",
       "      <th>Education</th>\n",
       "      <th>Self_Employed</th>\n",
       "      <th>ApplicantIncome</th>\n",
       "      <th>CoapplicantIncome</th>\n",
       "      <th>LoanAmount</th>\n",
       "      <th>Loan_Amount_Term</th>\n",
       "      <th>Credit_History</th>\n",
       "      <th>Property_Area</th>\n",
       "      <th>Loan_Status</th>\n",
       "    </tr>\n",
       "  </thead>\n",
       "  <tbody>\n",
       "    <tr>\n",
       "      <th>0</th>\n",
       "      <td>0.0</td>\n",
       "      <td>0.0</td>\n",
       "      <td>0.0</td>\n",
       "      <td>1</td>\n",
       "      <td>0.0</td>\n",
       "      <td>5849</td>\n",
       "      <td>0.0</td>\n",
       "      <td>NaN</td>\n",
       "      <td>360.0</td>\n",
       "      <td>1.0</td>\n",
       "      <td>2</td>\n",
       "      <td>1</td>\n",
       "    </tr>\n",
       "    <tr>\n",
       "      <th>1</th>\n",
       "      <td>0.0</td>\n",
       "      <td>1.0</td>\n",
       "      <td>1.0</td>\n",
       "      <td>1</td>\n",
       "      <td>0.0</td>\n",
       "      <td>4583</td>\n",
       "      <td>1508.0</td>\n",
       "      <td>128.0</td>\n",
       "      <td>360.0</td>\n",
       "      <td>1.0</td>\n",
       "      <td>0</td>\n",
       "      <td>0</td>\n",
       "    </tr>\n",
       "    <tr>\n",
       "      <th>2</th>\n",
       "      <td>0.0</td>\n",
       "      <td>1.0</td>\n",
       "      <td>0.0</td>\n",
       "      <td>1</td>\n",
       "      <td>1.0</td>\n",
       "      <td>3000</td>\n",
       "      <td>0.0</td>\n",
       "      <td>66.0</td>\n",
       "      <td>360.0</td>\n",
       "      <td>1.0</td>\n",
       "      <td>2</td>\n",
       "      <td>1</td>\n",
       "    </tr>\n",
       "    <tr>\n",
       "      <th>3</th>\n",
       "      <td>0.0</td>\n",
       "      <td>1.0</td>\n",
       "      <td>0.0</td>\n",
       "      <td>0</td>\n",
       "      <td>0.0</td>\n",
       "      <td>2583</td>\n",
       "      <td>2358.0</td>\n",
       "      <td>120.0</td>\n",
       "      <td>360.0</td>\n",
       "      <td>1.0</td>\n",
       "      <td>2</td>\n",
       "      <td>1</td>\n",
       "    </tr>\n",
       "    <tr>\n",
       "      <th>4</th>\n",
       "      <td>0.0</td>\n",
       "      <td>0.0</td>\n",
       "      <td>0.0</td>\n",
       "      <td>1</td>\n",
       "      <td>0.0</td>\n",
       "      <td>6000</td>\n",
       "      <td>0.0</td>\n",
       "      <td>141.0</td>\n",
       "      <td>360.0</td>\n",
       "      <td>1.0</td>\n",
       "      <td>2</td>\n",
       "      <td>1</td>\n",
       "    </tr>\n",
       "    <tr>\n",
       "      <th>...</th>\n",
       "      <td>...</td>\n",
       "      <td>...</td>\n",
       "      <td>...</td>\n",
       "      <td>...</td>\n",
       "      <td>...</td>\n",
       "      <td>...</td>\n",
       "      <td>...</td>\n",
       "      <td>...</td>\n",
       "      <td>...</td>\n",
       "      <td>...</td>\n",
       "      <td>...</td>\n",
       "      <td>...</td>\n",
       "    </tr>\n",
       "    <tr>\n",
       "      <th>609</th>\n",
       "      <td>1.0</td>\n",
       "      <td>0.0</td>\n",
       "      <td>0.0</td>\n",
       "      <td>1</td>\n",
       "      <td>0.0</td>\n",
       "      <td>2900</td>\n",
       "      <td>0.0</td>\n",
       "      <td>71.0</td>\n",
       "      <td>360.0</td>\n",
       "      <td>1.0</td>\n",
       "      <td>0</td>\n",
       "      <td>1</td>\n",
       "    </tr>\n",
       "    <tr>\n",
       "      <th>610</th>\n",
       "      <td>0.0</td>\n",
       "      <td>1.0</td>\n",
       "      <td>3.0</td>\n",
       "      <td>1</td>\n",
       "      <td>0.0</td>\n",
       "      <td>4106</td>\n",
       "      <td>0.0</td>\n",
       "      <td>40.0</td>\n",
       "      <td>180.0</td>\n",
       "      <td>1.0</td>\n",
       "      <td>0</td>\n",
       "      <td>1</td>\n",
       "    </tr>\n",
       "    <tr>\n",
       "      <th>611</th>\n",
       "      <td>0.0</td>\n",
       "      <td>1.0</td>\n",
       "      <td>1.0</td>\n",
       "      <td>1</td>\n",
       "      <td>0.0</td>\n",
       "      <td>8072</td>\n",
       "      <td>240.0</td>\n",
       "      <td>253.0</td>\n",
       "      <td>360.0</td>\n",
       "      <td>1.0</td>\n",
       "      <td>2</td>\n",
       "      <td>1</td>\n",
       "    </tr>\n",
       "    <tr>\n",
       "      <th>612</th>\n",
       "      <td>0.0</td>\n",
       "      <td>1.0</td>\n",
       "      <td>2.0</td>\n",
       "      <td>1</td>\n",
       "      <td>0.0</td>\n",
       "      <td>7583</td>\n",
       "      <td>0.0</td>\n",
       "      <td>187.0</td>\n",
       "      <td>360.0</td>\n",
       "      <td>1.0</td>\n",
       "      <td>2</td>\n",
       "      <td>1</td>\n",
       "    </tr>\n",
       "    <tr>\n",
       "      <th>613</th>\n",
       "      <td>1.0</td>\n",
       "      <td>0.0</td>\n",
       "      <td>0.0</td>\n",
       "      <td>1</td>\n",
       "      <td>1.0</td>\n",
       "      <td>4583</td>\n",
       "      <td>0.0</td>\n",
       "      <td>133.0</td>\n",
       "      <td>360.0</td>\n",
       "      <td>0.0</td>\n",
       "      <td>1</td>\n",
       "      <td>0</td>\n",
       "    </tr>\n",
       "  </tbody>\n",
       "</table>\n",
       "<p>614 rows × 12 columns</p>\n",
       "</div>"
      ],
      "text/plain": [
       "     Gender  Married  Dependents  Education  Self_Employed  ApplicantIncome  \\\n",
       "0       0.0      0.0         0.0          1            0.0             5849   \n",
       "1       0.0      1.0         1.0          1            0.0             4583   \n",
       "2       0.0      1.0         0.0          1            1.0             3000   \n",
       "3       0.0      1.0         0.0          0            0.0             2583   \n",
       "4       0.0      0.0         0.0          1            0.0             6000   \n",
       "..      ...      ...         ...        ...            ...              ...   \n",
       "609     1.0      0.0         0.0          1            0.0             2900   \n",
       "610     0.0      1.0         3.0          1            0.0             4106   \n",
       "611     0.0      1.0         1.0          1            0.0             8072   \n",
       "612     0.0      1.0         2.0          1            0.0             7583   \n",
       "613     1.0      0.0         0.0          1            1.0             4583   \n",
       "\n",
       "     CoapplicantIncome  LoanAmount  Loan_Amount_Term  Credit_History  \\\n",
       "0                  0.0         NaN             360.0             1.0   \n",
       "1               1508.0       128.0             360.0             1.0   \n",
       "2                  0.0        66.0             360.0             1.0   \n",
       "3               2358.0       120.0             360.0             1.0   \n",
       "4                  0.0       141.0             360.0             1.0   \n",
       "..                 ...         ...               ...             ...   \n",
       "609                0.0        71.0             360.0             1.0   \n",
       "610                0.0        40.0             180.0             1.0   \n",
       "611              240.0       253.0             360.0             1.0   \n",
       "612                0.0       187.0             360.0             1.0   \n",
       "613                0.0       133.0             360.0             0.0   \n",
       "\n",
       "     Property_Area  Loan_Status  \n",
       "0                2            1  \n",
       "1                0            0  \n",
       "2                2            1  \n",
       "3                2            1  \n",
       "4                2            1  \n",
       "..             ...          ...  \n",
       "609              0            1  \n",
       "610              0            1  \n",
       "611              2            1  \n",
       "612              2            1  \n",
       "613              1            0  \n",
       "\n",
       "[614 rows x 12 columns]"
      ]
     },
     "execution_count": 3,
     "metadata": {},
     "output_type": "execute_result"
    }
   ],
   "source": [
    "df['Gender'] = df['Gender'].replace({'Male':0, 'Female':1})\n",
    "df['Married'] = df['Married'].replace({'No':0, 'Yes': 1})\n",
    "# Dependents = 3+ transform to what\n",
    "df['Dependents'] = df['Dependents'].replace({'0':0, '1':1, '2':2, '3+':3})\n",
    "df['Education'] = df['Education'].replace({'Not Graduate':0, 'Graduate':1})\n",
    "df['Self_Employed'] = df['Self_Employed'].replace({'No':0,'Yes':1})\n",
    "df['Property_Area'] = df['Property_Area'].replace({'Rural':0, \"Semiurban\":1, \"Urban\":2})\n",
    "df['Loan_Status'] = df['Loan_Status'].replace({\"N\":0, \"Y\":1})\n",
    "\n",
    "df"
   ]
  },
  {
   "cell_type": "markdown",
   "metadata": {
    "id": "6ByyPtULMtOx"
   },
   "source": [
    "Drop Null values"
   ]
  },
  {
   "cell_type": "code",
   "execution_count": 4,
   "metadata": {
    "colab": {
     "base_uri": "https://localhost:8080/"
    },
    "id": "HpGzctNUI2KU",
    "outputId": "85f6d09c-4c08-4629-bac1-955eab1b7403"
   },
   "outputs": [
    {
     "name": "stdout",
     "output_type": "stream",
     "text": [
      " \n",
      "Count total NaN at each column in a DataFrame : \n",
      "\n",
      " Gender               13\n",
      "Married               3\n",
      "Dependents           15\n",
      "Education             0\n",
      "Self_Employed        32\n",
      "ApplicantIncome       0\n",
      "CoapplicantIncome     0\n",
      "LoanAmount           22\n",
      "Loan_Amount_Term     14\n",
      "Credit_History       50\n",
      "Property_Area         0\n",
      "Loan_Status           0\n",
      "dtype: int64\n",
      " \n",
      "Count total NaN at each column in a DataFrame : \n",
      "\n",
      " Gender               0\n",
      "Married              0\n",
      "Dependents           0\n",
      "Education            0\n",
      "Self_Employed        0\n",
      "ApplicantIncome      0\n",
      "CoapplicantIncome    0\n",
      "LoanAmount           0\n",
      "Loan_Amount_Term     0\n",
      "Credit_History       0\n",
      "Property_Area        0\n",
      "Loan_Status          0\n",
      "dtype: int64\n"
     ]
    }
   ],
   "source": [
    "print(\" \\nCount total NaN at each column in a DataFrame : \\n\\n\",df.isnull().sum())\n",
    "df = df.dropna()\n",
    "print(\" \\nCount total NaN at each column in a DataFrame : \\n\\n\",df.isnull().sum())\n"
   ]
  },
  {
   "cell_type": "code",
   "execution_count": null,
   "metadata": {
    "colab": {
     "base_uri": "https://localhost:8080/",
     "height": 957
    },
    "id": "n6L-YjX4MvH8",
    "outputId": "f287c1d9-8660-4354-82d1-de53a9cb711a"
   },
   "outputs": [],
   "source": []
  },
  {
   "cell_type": "markdown",
   "metadata": {
    "id": "9R4SkL0OWTiL"
   },
   "source": [
    "# Baseline Accuracy (Without feature selection)\n"
   ]
  },
  {
   "cell_type": "code",
   "execution_count": 5,
   "metadata": {
    "colab": {
     "base_uri": "https://localhost:8080/"
    },
    "id": "Tq6xm9KNWJNU",
    "outputId": "2b659281-5d89-4452-c1a2-ddd52e9593f2"
   },
   "outputs": [
    {
     "data": {
      "text/plain": [
       "(480, 11)"
      ]
     },
     "execution_count": 5,
     "metadata": {},
     "output_type": "execute_result"
    }
   ],
   "source": [
    "array = df.values\n",
    "X = array[:, 0:11]\n",
    "y = array[:, 11]\n",
    "\n",
    "X.shape"
   ]
  },
  {
   "cell_type": "code",
   "execution_count": 8,
   "metadata": {
    "colab": {
     "base_uri": "https://localhost:8080/"
    },
    "id": "Xycf8jUGWpDi",
    "outputId": "b75b4c55-3dfa-4e6d-fe43-85a6f458c465"
   },
   "outputs": [
    {
     "name": "stdout",
     "output_type": "stream",
     "text": [
      "Baseline accuracy with all features is 0.8333333333333334\n"
     ]
    }
   ],
   "source": [
    "# Import train_test_split function\n",
    "from sklearn.model_selection import train_test_split\n",
    "from sklearn import metrics\n",
    "from sklearn.linear_model import RidgeClassifier\n",
    "from sklearn import svm\n",
    "\n",
    "# define a function that will train a classifier and then measure performance\n",
    "\n",
    "def train_and_measure_performance(X, y):\n",
    "    X_train, X_test, y_train, y_test = train_test_split(X, y, test_size=0.3, random_state=109) # 70% training and 30% test\n",
    "    #Create a svm Classifier\n",
    "    reg_clf = RidgeClassifier()\n",
    "    #reg_clf = svm.SVC(kernel='linear') # Linear Kernel\n",
    "\n",
    "    #Train the model using the training sets\n",
    "    reg_clf.fit(X_train, y_train)\n",
    "\n",
    "    #Predict the response for test dataset\n",
    "    y_pred = reg_clf.predict(X_test)\n",
    "    # Model Accuracy: how often is the classifier correct?\n",
    "    return (metrics.accuracy_score(y_test, y_pred))\n",
    "\n",
    "baseline_performance = train_and_measure_performance(X, y)\n",
    "print (f'Baseline accuracy with all features is {baseline_performance}')"
   ]
  },
  {
   "cell_type": "code",
   "execution_count": 10,
   "metadata": {},
   "outputs": [
    {
     "name": "stdout",
     "output_type": "stream",
     "text": [
      "Baseline accuracy with all features is 0.7916666666666666\n"
     ]
    },
    {
     "data": {
      "text/plain": [
       "['reg_clf.pkl']"
      ]
     },
     "execution_count": 10,
     "metadata": {},
     "output_type": "execute_result"
    }
   ],
   "source": [
    "# Import train_test_split function\n",
    "from sklearn.model_selection import train_test_split\n",
    "from sklearn import metrics\n",
    "from sklearn.linear_model import RidgeClassifier\n",
    "from sklearn import svm\n",
    "\n",
    "# Define the classifier\n",
    "#reg_clf = RidgeClassifier()\n",
    "reg_clf = svm.SVC(kernel='linear') # Linear Kernel\n",
    "\n",
    "# define a function that will train a classifier and then measure performance\n",
    "def train_and_measure_performance(X, y):\n",
    "    X_train, X_test, y_train, y_test = train_test_split(X, y, test_size=0.3, random_state=109) # 70% training and 30% test\n",
    "\n",
    "    #Train the model using the training sets\n",
    "    reg_clf.fit(X_train, y_train)\n",
    "\n",
    "    #Predict the response for test dataset\n",
    "    y_pred = reg_clf.predict(X_test)\n",
    "    # Model Accuracy: how often is the classifier correct?\n",
    "    return (metrics.accuracy_score(y_test, y_pred))\n",
    "\n",
    "# Train the classifier and save it\n",
    "baseline_performance = train_and_measure_performance(X, y)\n",
    "print (f'Baseline accuracy with all features is {baseline_performance}')\n",
    "\n",
    "import joblib\n",
    "joblib.dump(reg_clf,'reg_clf.pkl')\n"
   ]
  },
  {
   "cell_type": "markdown",
   "metadata": {
    "id": "qPVT5N6zWuPB"
   },
   "source": [
    "# 1. Chi Square"
   ]
  },
  {
   "cell_type": "code",
   "execution_count": 26,
   "metadata": {
    "colab": {
     "base_uri": "https://localhost:8080/"
    },
    "id": "Q2ZbP5fSWx4V",
    "outputId": "21a8daef-d60b-4b80-a26b-8ed003316655"
   },
   "outputs": [
    {
     "name": "stdout",
     "output_type": "stream",
     "text": [
      "2.05291254658745, Gender\n",
      "1.8020825983162063, Married\n",
      "3.980216143425766, Dependents\n",
      "0.1517582881007762, Education\n",
      "0.42385904508909794, Self_Employed\n",
      "689.2031407075731, ApplicantIncome\n",
      "2507.619370539653, CoapplicantIncome\n",
      "47.85289075142041, LoanAmount\n",
      "3.669792455859521, Loan_Amount_Term\n",
      "12.121975806875739, Credit_History\n",
      "0.4486825680739998, Property_Area\n"
     ]
    }
   ],
   "source": [
    "from sklearn.feature_selection import SelectKBest\n",
    "from sklearn.feature_selection import chi2\n",
    "\n",
    "X_train, X_test, y_train, y_test = train_test_split(X, y, test_size=0.3, random_state=109) # 70% training and 30% test\n",
    "\n",
    "# Feature extraction--select the 4 best features\n",
    "test = SelectKBest(score_func=chi2, k=4)\n",
    "fit = test.fit(X_train, y_train)\n",
    "\n",
    "# Summarize scores\n",
    "np.set_printoptions(precision=3)\n",
    "feature_names = df.columns[0:11]\n",
    "\n",
    "for i, feature in enumerate (feature_names):\n",
    "    print (f'{fit.scores_[i]}, {feature}') \n",
    "#print (feature_names)\n",
    "#print(fit.scores_)\n"
   ]
  },
  {
   "cell_type": "code",
   "execution_count": 27,
   "metadata": {
    "colab": {
     "base_uri": "https://localhost:8080/"
    },
    "id": "ACuuS3wVXB1-",
    "outputId": "884981bb-d917-4124-dcd4-755880b33ec7"
   },
   "outputs": [
    {
     "name": "stdout",
     "output_type": "stream",
     "text": [
      "0.1517582881007762 - Education\n",
      "0.42385904508909794 - Self_Employed\n",
      "0.4486825680739998 - Property_Area\n",
      "1.8020825983162063 - Married\n",
      "2.05291254658745 - Gender\n",
      "3.669792455859521 - Loan_Amount_Term\n",
      "3.980216143425766 - Dependents\n",
      "12.121975806875739 - Credit_History\n",
      "47.85289075142041 - LoanAmount\n",
      "689.2031407075731 - ApplicantIncome\n",
      "2507.619370539653 - CoapplicantIncome\n"
     ]
    }
   ],
   "source": [
    "sorted_scores = sorted(fit.scores_)\n",
    "zipped_lists = zip(fit.scores_, feature_names)\n",
    "sorted_pairs = sorted(zipped_lists)\n",
    "for f, val in sorted_pairs:\n",
    "    print (f'{f} - {val}')"
   ]
  },
  {
   "cell_type": "markdown",
   "metadata": {
    "id": "poBDZ3IXXKks"
   },
   "source": [
    "The highest is Coapplicant Income, ApplicantIncome, LoanAmmount and Credit_History"
   ]
  },
  {
   "cell_type": "code",
   "execution_count": 28,
   "metadata": {
    "colab": {
     "base_uri": "https://localhost:8080/"
    },
    "id": "J9ZVYKT8XKU1",
    "outputId": "7bf16c31-ff7d-45fe-eb83-e7ea25be1d77"
   },
   "outputs": [
    {
     "name": "stdout",
     "output_type": "stream",
     "text": [
      "Accuracy with best features using Chi-square is 0.8333333333333334\n"
     ]
    }
   ],
   "source": [
    "# Make a copy of the data for Chi-squared method...\n",
    "#First, need to remove the 'class' column since that is the answer\n",
    "chi_df = df.drop(columns=[\"Loan_Status\"])\n",
    "\n",
    "# delete the columns we don't want\n",
    "# only take top 6 columns\n",
    "chi_df = chi_df.drop(columns=[\"Education\",\"Self_Employed\",\"Property_Area\",\"Married\", \"Gender\"])\n",
    "\n",
    "d_chi = chi_df.values \n",
    "X_1 = d_chi[:,:]\n",
    "\n",
    "perf = train_and_measure_performance(X_1, y)\n",
    "print (f'Accuracy with best features using Chi-square is {perf}')"
   ]
  },
  {
   "cell_type": "markdown",
   "metadata": {
    "id": "bYB5sEJRX7By"
   },
   "source": [
    "# Recursive Feature Elimination (RFE)"
   ]
  },
  {
   "cell_type": "code",
   "execution_count": 29,
   "metadata": {
    "colab": {
     "base_uri": "https://localhost:8080/"
    },
    "id": "tCfPIPJHXoTf",
    "outputId": "2a412233-7e35-465c-b3b7-8acea3684684"
   },
   "outputs": [
    {
     "name": "stdout",
     "output_type": "stream",
     "text": [
      "[False False False  True False False False False False  True  True]\n",
      "Or if you want to see the ranking of those that didn't make the cut...\n",
      "[4 2 3 1 5 8 9 7 6 1 1]\n"
     ]
    }
   ],
   "source": [
    "# Import your necessary dependencies\n",
    "from sklearn.feature_selection import RFE\n",
    "from sklearn.svm import SVR\n",
    "from sklearn.linear_model import LogisticRegression\n",
    "\n",
    "estimator = SVR(kernel=\"linear\")\n",
    "# we will ask for the top 4 features\n",
    "selector = RFE(estimator, n_features_to_select=3, step=1)\n",
    "selector = selector.fit(X_train, y_train)\n",
    "print(selector.support_)\n",
    "rank=selector.ranking_\n",
    "print (\"Or if you want to see the ranking of those that didn't make the cut...\")\n",
    "print(rank)\n"
   ]
  },
  {
   "cell_type": "code",
   "execution_count": 30,
   "metadata": {
    "colab": {
     "base_uri": "https://localhost:8080/"
    },
    "id": "TAxHu8iXYEIa",
    "outputId": "11b3681f-967c-4aed-a50c-4d7e2fa22a7c"
   },
   "outputs": [
    {
     "name": "stdout",
     "output_type": "stream",
     "text": [
      "Accuracy with without using RFE is 0.8333333333333334\n",
      "Accuracy with best features using RFE is 0.8333333333333334\n"
     ]
    }
   ],
   "source": [
    "# drop all columns not '1'\n",
    "X_1 = df.drop(df.columns[11], axis=1)  # get rid of 'class'\n",
    "#print(\"X_1 before drop\\n\", X_1)\n",
    "perf = train_and_measure_performance(X_1, y)\n",
    "print (f'Accuracy with without using RFE is {perf}')\n",
    "# for i in range(10):\n",
    "#    if selector.support_[i] == False:\n",
    "#       X_1 = X_1.drop(X_1.columns[i], axis=1)\n",
    "\n",
    "#This will drop the columns that are not supported by the RFE selector,\n",
    "# starting from the highest index and working its way down to the lowest index.\n",
    "for i in reversed(range(10)):\n",
    "    if selector.support_[i] == False:\n",
    "        X_1 = X_1.drop(X_1.columns[i], axis=1)\n",
    "\n",
    "#print(\"X_1 after drop\\n\",X_1)\n",
    "perf = train_and_measure_performance(X_1, y)\n",
    "print (f'Accuracy with best features using RFE is {perf}')"
   ]
  },
  {
   "cell_type": "code",
   "execution_count": null,
   "metadata": {},
   "outputs": [],
   "source": []
  },
  {
   "cell_type": "markdown",
   "metadata": {
    "id": "bXye109fc2am"
   },
   "source": [
    "# Embedded Model"
   ]
  },
  {
   "cell_type": "code",
   "execution_count": null,
   "metadata": {
    "colab": {
     "base_uri": "https://localhost:8080/",
     "height": 922
    },
    "id": "v7oUd2_Uc3vQ",
    "outputId": "f576b945-a6d1-4b31-f226-4b3167ce7965"
   },
   "outputs": [],
   "source": []
  },
  {
   "cell_type": "markdown",
   "metadata": {
    "id": "wv4z7CYZP_5-"
   },
   "source": [
    "# From Sheikh\n"
   ]
  },
  {
   "cell_type": "markdown",
   "metadata": {
    "id": "Ey1eCZi1QFtn"
   },
   "source": [
    "## RFE\n"
   ]
  },
  {
   "cell_type": "code",
   "execution_count": 55,
   "metadata": {
    "colab": {
     "base_uri": "https://localhost:8080/"
    },
    "id": "xLOKBHhaOpuC",
    "outputId": "c45a5b4a-fd93-427d-a41a-8913ac276569"
   },
   "outputs": [
    {
     "name": "stdout",
     "output_type": "stream",
     "text": [
      "Accuracy with RFE and 6 features is 0.8333333333333334\n"
     ]
    }
   ],
   "source": [
    "# Import necessary libraries\n",
    "import pandas as pd\n",
    "from sklearn.feature_selection import RFE\n",
    "from sklearn.linear_model import RidgeClassifier\n",
    "from sklearn.model_selection import train_test_split\n",
    "from sklearn import metrics\n",
    "\n",
    "# Load loan dataset from a CSV file\n",
    "loan_df = df\n",
    "\n",
    "# Split the dataset into features (X) and target (y)\n",
    "y1 = loan_df['Loan_Status']\n",
    "X1 = loan_df.drop(['Loan_Status'], axis=1)\n",
    "\n",
    "# Define the number of features to select\n",
    "num_features = 6\n",
    "\n",
    "# Create a Ridge Classifier model\n",
    "rfe_clf = RidgeClassifier()\n",
    "\n",
    "# Use RFE to select the top features\n",
    "rfe = RFE(estimator=clf, n_features_to_select=num_features, step=1)\n",
    "\n",
    "X_rfe = rfe.fit_transform(X1, y1)\n",
    "\n",
    "# Split the selected features into training and test sets\n",
    "X_train, X_test, y_train, y_test = train_test_split(X_rfe, y, test_size=0.3, random_state=109)\n",
    "\n",
    "# Train the model using the training sets\n",
    "rfe_clf.fit(X_train, y_train)\n",
    "\n",
    "# Predict the response for test dataset\n",
    "y_pred = rfe_clf.predict(X_test)\n",
    "\n",
    "# Compute the accuracy score of the model\n",
    "accuracy = metrics.accuracy_score(y_test, y_pred)\n",
    "\n",
    "# Print the accuracy score\n",
    "print(f'Accuracy with RFE and {num_features} features is {accuracy}')\n"
   ]
  },
  {
   "cell_type": "code",
   "execution_count": 46,
   "metadata": {},
   "outputs": [
    {
     "name": "stdout",
     "output_type": "stream",
     "text": [
      "Index(['Gender', 'Married', 'Education', 'Self_Employed', 'Credit_History',\n",
      "       'Property_Area'],\n",
      "      dtype='object')\n"
     ]
    }
   ],
   "source": [
    "# Print the mask of selected features\n",
    "#print(rfe.support_)\n",
    "\n",
    "# Select the corresponding columns from X1\n",
    "rfe_selected_columns = X1.columns[rfe.support_]\n",
    "\n",
    "# Print the selected columns\n",
    "print(rfe_selected_columns)\n"
   ]
  },
  {
   "cell_type": "code",
   "execution_count": 65,
   "metadata": {},
   "outputs": [
    {
     "name": "stdout",
     "output_type": "stream",
     "text": [
      "[1]\n"
     ]
    }
   ],
   "source": [
    "suka = np.array([1, 0, 1, 0, 1, 2]).reshape(1, -1)\n",
    "predtest = rfe_clf.predict(suka)\n",
    "print(predtest)"
   ]
  },
  {
   "cell_type": "code",
   "execution_count": 71,
   "metadata": {},
   "outputs": [
    {
     "data": {
      "text/plain": [
       "['rfe_clf.pkl']"
      ]
     },
     "execution_count": 71,
     "metadata": {},
     "output_type": "execute_result"
    }
   ],
   "source": [
    "import joblib\n",
    "joblib.dump(rfe_clf,'rfe_clf.pkl')"
   ]
  },
  {
   "cell_type": "markdown",
   "metadata": {
    "id": "gHe71oC2QJkT"
   },
   "source": [
    "## CFS"
   ]
  },
  {
   "cell_type": "code",
   "execution_count": 66,
   "metadata": {
    "colab": {
     "base_uri": "https://localhost:8080/"
    },
    "id": "_lSTnTQnPIL8",
    "outputId": "cba2a63a-6222-436d-e12f-1c73de6186e1"
   },
   "outputs": [
    {
     "name": "stdout",
     "output_type": "stream",
     "text": [
      "Accuracy with SelectKBest and 6 features is 0.8333333333333334\n"
     ]
    }
   ],
   "source": [
    "# Import necessary libraries\n",
    "import pandas as pd\n",
    "from sklearn.feature_selection import SelectKBest, f_classif\n",
    "from sklearn.linear_model import RidgeClassifier\n",
    "from sklearn.model_selection import train_test_split\n",
    "from sklearn import metrics\n",
    "from joblib import dump\n",
    "\n",
    "# Load loan dataset from a CSV file\n",
    "#loan_df = pd.read_csv('loan_dataset.csv')\n",
    "\n",
    "# Split the dataset into features (X) and target (y)\n",
    "y = loan_df['Loan_Status']\n",
    "X = loan_df.drop(['Loan_Status'], axis=1)\n",
    "\n",
    "# Use SelectKBest with f_classif to select the top features\n",
    "k = 6 # select top k features\n",
    "selector = SelectKBest(f_classif, k=k)\n",
    "X_kbest = selector.fit_transform(X, y)\n",
    "\n",
    "# Split the selected features into training and test sets\n",
    "X_train, X_test, y_train, y_test = train_test_split(X_kbest, y, test_size=0.3, random_state=109)\n",
    "\n",
    "# Create a Ridge Classifier model\n",
    "cfs_clf = RidgeClassifier()\n",
    "\n",
    "# Train the model using the training sets\n",
    "cfs_clf.fit(X_train, y_train)\n",
    "\n",
    "# Predict the response for test dataset\n",
    "y_pred = cfs_clf.predict(X_test)\n",
    "\n",
    "# Compute the accuracy score of the model\n",
    "accuracy = metrics.accuracy_score(y_test, y_pred)\n",
    "\n",
    "# Print the accuracy score\n",
    "print(f'Accuracy with SelectKBest and {k} features is {accuracy}')\n"
   ]
  },
  {
   "cell_type": "code",
   "execution_count": 44,
   "metadata": {},
   "outputs": [
    {
     "name": "stdout",
     "output_type": "stream",
     "text": [
      "Index(['Gender', 'Married', 'Education', 'CoapplicantIncome', 'LoanAmount',\n",
      "       'Credit_History'],\n",
      "      dtype='object')\n"
     ]
    }
   ],
   "source": [
    "# Get a Boolean mask of selected features\n",
    "mask = selector.get_support()\n",
    "\n",
    "# Get the names of selected columns\n",
    "cfs_selected_columns = X.columns[mask]\n",
    "\n",
    "# Print the selected column names\n",
    "print(cfs_selected_columns)\n"
   ]
  },
  {
   "cell_type": "code",
   "execution_count": 69,
   "metadata": {},
   "outputs": [
    {
     "name": "stdout",
     "output_type": "stream",
     "text": [
      "[0]\n"
     ]
    }
   ],
   "source": [
    "suka = np.array([1, 0, 2, 3383, 600, 0]).reshape(1, -1)\n",
    "predtest = cfs_clf.predict(suka)\n",
    "print(predtest)"
   ]
  },
  {
   "cell_type": "markdown",
   "metadata": {
    "id": "TrGUNESvQOoo"
   },
   "source": [
    "## PCA\n"
   ]
  },
  {
   "cell_type": "code",
   "execution_count": 18,
   "metadata": {
    "colab": {
     "base_uri": "https://localhost:8080/",
     "height": 34
    },
    "id": "Z_NCzcUCPqxA",
    "outputId": "f15b0543-d853-4e1f-e8e6-3e26103d8984"
   },
   "outputs": [
    {
     "name": "stdout",
     "output_type": "stream",
     "text": [
      "Accuracy with PCA and 5 components is 0.7152777777777778\n"
     ]
    }
   ],
   "source": [
    "# Import necessary libraries\n",
    "import pandas as pd\n",
    "from sklearn.decomposition import PCA\n",
    "from sklearn.linear_model import RidgeClassifier\n",
    "from sklearn.model_selection import train_test_split\n",
    "from sklearn import metrics\n",
    "from joblib import dump\n",
    "\n",
    "# Load loan dataset from a CSV file\n",
    "#loan_df = pd.read_csv('loan_dataset.csv')\n",
    "\n",
    "# Split the dataset into features (X) and target (y)\n",
    "y = loan_df['Loan_Status']\n",
    "X = loan_df.drop(['Loan_Status'], axis=1)\n",
    "\n",
    "# Apply PCA to reduce the dimensionality of the feature space\n",
    "pca = PCA(n_components=5)\n",
    "X_pca = pca.fit_transform(X)\n",
    "\n",
    "# Split the PCA-transformed features into training and test sets\n",
    "X_train, X_test, y_train, y_test = train_test_split(X_pca, y, test_size=0.3, random_state=109)\n",
    "\n",
    "# Create a Ridge Classifier model\n",
    "clf = RidgeClassifier()\n",
    "\n",
    "# Train the model using the training sets\n",
    "clf.fit(X_train, y_train)\n",
    "\n",
    "# Predict the response for test dataset\n",
    "y_pred = clf.predict(X_test)\n",
    "\n",
    "# Compute the accuracy score of the model\n",
    "accuracy = metrics.accuracy_score(y_test, y_pred)\n",
    "\n",
    "# Print the accuracy score\n",
    "print(f'Accuracy with PCA and {pca.n_components_} components is {accuracy}')\n",
    "\n",
    "\n"
   ]
  },
  {
   "cell_type": "code",
   "execution_count": 12,
   "metadata": {},
   "outputs": [
    {
     "name": "stdout",
     "output_type": "stream",
     "text": [
      "Accuracy with PCA and 5 components is 0.7152777777777778\n",
      "Selected columns: ['PC1', 'PC2', 'PC3', 'PC4', 'PC5']\n",
      "     Gender   Married  Dependents  Education  Self_Employed  ApplicantIncome  \\\n",
      "0 -0.000002  0.000003    0.000023   0.000009       0.000010         0.997819   \n",
      "1 -0.000024  0.000020    0.000007   0.000015       0.000003         0.065589   \n",
      "2  0.000028  0.000541    0.000751   0.000814       0.000065        -0.006071   \n",
      "3 -0.000631  0.001419    0.002482  -0.000174       0.000272        -0.004294   \n",
      "4 -0.096131  0.207173    0.972668  -0.023804       0.004778        -0.000007   \n",
      "\n",
      "   CoapplicantIncome  LoanAmount  Loan_Amount_Term  Credit_History  \\\n",
      "0          -0.065646    0.006915         -0.000122       -0.000003   \n",
      "1           0.997813    0.008155         -0.000185       -0.000002   \n",
      "2          -0.006253    0.826650          0.562646        0.000043   \n",
      "3          -0.004469    0.562608         -0.826695       -0.000188   \n",
      "4           0.000006   -0.002202          0.001854       -0.003846   \n",
      "\n",
      "   Property_Area  \n",
      "0  -7.269120e-06  \n",
      "1  -3.169967e-07  \n",
      "2  -1.277244e-03  \n",
      "3  -1.129917e-04  \n",
      "4   3.381139e-02  \n"
     ]
    }
   ],
   "source": [
    "# Import necessary libraries\n",
    "import pandas as pd\n",
    "from sklearn.decomposition import PCA\n",
    "from sklearn.linear_model import RidgeClassifier\n",
    "from sklearn.model_selection import train_test_split\n",
    "from sklearn import metrics\n",
    "\n",
    "# Load loan dataset from a CSV file\n",
    "loan_df = df\n",
    "\n",
    "# Split the dataset into features (X) and target (y)\n",
    "y = loan_df['Loan_Status']\n",
    "X = loan_df.drop(['Loan_Status'], axis=1)\n",
    "\n",
    "# Apply PCA to reduce the dimensionality of the feature space\n",
    "pca = PCA(n_components=5)\n",
    "X_pca = pca.fit_transform(X)\n",
    "\n",
    "# Get the names of selected columns\n",
    "col_names = [f\"PC{i+1}\" for i in range(pca.n_components_)]\n",
    "\n",
    "# Split the PCA-transformed features into training and test sets\n",
    "X_train, X_test, y_train, y_test = train_test_split(X_pca, y, test_size=0.3, random_state=109)\n",
    "\n",
    "# Create a Ridge Classifier model\n",
    "pca_clf = RidgeClassifier()\n",
    "\n",
    "# Train the model using the training sets\n",
    "pca_clf.fit(X_train, y_train)\n",
    "\n",
    "# Predict the response for test dataset\n",
    "y_pred = pca_clf.predict(X_test)\n",
    "\n",
    "# Compute the accuracy score of the model\n",
    "accuracy = metrics.accuracy_score(y_test, y_pred)\n",
    "\n",
    "# Print the accuracy score and the names of the selected columns\n",
    "print(f'Accuracy with PCA and {pca.n_components_} components is {accuracy}')\n",
    "print(f'Selected columns: {col_names}')\n",
    "\n",
    "# Print the contribution of the original features to each principal component\n",
    "components_df = pd.DataFrame(pca.components_, columns=X.columns)\n",
    "print(components_df)\n"
   ]
  },
  {
   "cell_type": "code",
   "execution_count": 15,
   "metadata": {},
   "outputs": [
    {
     "data": {
      "text/plain": [
       "['pca_clf.pkl']"
      ]
     },
     "execution_count": 15,
     "metadata": {},
     "output_type": "execute_result"
    }
   ],
   "source": [
    "import joblib\n",
    "joblib.dump(pca_clf,'pca_clf.pkl')"
   ]
  },
  {
   "cell_type": "code",
   "execution_count": 21,
   "metadata": {},
   "outputs": [],
   "source": [
    "df.to_csv('file_name.csv', encoding='utf-8')"
   ]
  },
  {
   "cell_type": "code",
   "execution_count": 14,
   "metadata": {},
   "outputs": [
    {
     "data": {
      "image/png": "[encoded data removed]",
      "text/plain": [
       "<Figure size 1000x800 with 2 Axes>"
      ]
     },
     "metadata": {},
     "output_type": "display_data"
    }
   ],
   "source": [
    "import seaborn as sns\n",
    "import matplotlib.pyplot as plt\n",
    "\n",
    "# Create a heatmap of the component loadings\n",
    "plt.figure(figsize=(10, 8))\n",
    "sns.heatmap(components_df, cmap='coolwarm', annot=True, fmt='.4f')\n",
    "plt.title('PCA Component Loadings')\n",
    "plt.xlabel('Original Features')\n",
    "plt.ylabel('PCA Components')\n",
    "plt.show()\n"
   ]
  },
  {
   "cell_type": "markdown",
   "metadata": {
    "id": "fQXgDkiPZwe3"
   },
   "source": [
    "## Mutual Information-based Feature Selection (MIFS)"
   ]
  },
  {
   "cell_type": "code",
   "execution_count": 54,
   "metadata": {
    "colab": {
     "base_uri": "https://localhost:8080/"
    },
    "id": "zxRxCYM2Y33u",
    "outputId": "cdb4db70-73fc-4c9e-dfc7-a9a414429d59"
   },
   "outputs": [
    {
     "name": "stdout",
     "output_type": "stream",
     "text": [
      "Accuracy with MIFS and 5 features is 0.8333333333333334\n"
     ]
    }
   ],
   "source": [
    "import pandas as pd\n",
    "from sklearn.feature_selection import mutual_info_classif, SelectKBest\n",
    "from sklearn.linear_model import RidgeClassifier\n",
    "from sklearn.model_selection import train_test_split\n",
    "from sklearn import metrics\n",
    "from joblib import dump\n",
    "\n",
    "# Load loan dataset from a CSV file\n",
    "# loan_df = pd.read_csv('loan_dataset.csv')\n",
    "\n",
    "# Split the dataset into features (X) and target (y)\n",
    "y = loan_df['Loan_Status']\n",
    "X = loan_df.drop(['Loan_Status'], axis=1)\n",
    "\n",
    "# Select the K best features based on mutual information\n",
    "selector = SelectKBest(mutual_info_classif, k=5).fit(X, y)\n",
    "X_mifs = selector.transform(X)\n",
    "\n",
    "# Split the MIFS-transformed features into training and test sets\n",
    "X_train, X_test, y_train, y_test = train_test_split(X_mifs, y, test_size=0.3, random_state=109)\n",
    "\n",
    "# Create a Ridge Classifier model\n",
    "clf = RidgeClassifier()\n",
    "\n",
    "# Train the model using the training sets\n",
    "clf.fit(X_train, y_train)\n",
    "\n",
    "# Predict the response for test dataset\n",
    "y_pred = clf.predict(X_test)\n",
    "\n",
    "# Compute the accuracy score of the model\n",
    "accuracy = metrics.accuracy_score(y_test, y_pred)\n",
    "\n",
    "# Print the accuracy score\n",
    "print(f'Accuracy with MIFS and {selector.k} features is {accuracy}')\n"
   ]
  },
  {
   "cell_type": "markdown",
   "metadata": {
    "id": "9S9J8NfydSfq"
   },
   "source": [
    "##Univariate Feature Selection (UFS)\n"
   ]
  },
  {
   "cell_type": "code",
   "execution_count": 20,
   "metadata": {
    "colab": {
     "base_uri": "https://localhost:8080/"
    },
    "id": "bE3w-4PoaDVv",
    "outputId": "8e842b6e-5713-4e1b-d71e-4d0ed2bf6e55"
   },
   "outputs": [
    {
     "name": "stdout",
     "output_type": "stream",
     "text": [
      "Accuracy with UFS and 5 features is 0.8333333333333334\n"
     ]
    }
   ],
   "source": [
    "import pandas as pd\n",
    "from sklearn.feature_selection import SelectKBest, f_classif\n",
    "from sklearn.linear_model import RidgeClassifier\n",
    "from sklearn.model_selection import train_test_split\n",
    "from sklearn import metrics\n",
    "from joblib import dump\n",
    "\n",
    "# Load loan dataset from a CSV file\n",
    "#loan_df = pd.read_csv('loan_dataset.csv')\n",
    "\n",
    "# Split the dataset into features (X) and target (y)\n",
    "y = loan_df['Loan_Status']\n",
    "X = loan_df.drop(['Loan_Status'], axis=1)\n",
    "\n",
    "# Use SelectKBest with f_classif scoring function to select the top 5 features\n",
    "ufs = SelectKBest(f_classif, k=5)\n",
    "X_ufs = ufs.fit_transform(X, y)\n",
    "\n",
    "# Split the selected features into training and test sets\n",
    "X_train, X_test, y_train, y_test = train_test_split(X_ufs, y, test_size=0.3, random_state=109)\n",
    "\n",
    "# Create a Ridge Classifier model\n",
    "clf = RidgeClassifier()\n",
    "\n",
    "# Train the model using the training sets\n",
    "clf.fit(X_train, y_train)\n",
    "\n",
    "# Predict the response for test dataset\n",
    "y_pred = clf.predict(X_test)\n",
    "\n",
    "# Compute the accuracy score of the model\n",
    "accuracy = metrics.accuracy_score(y_test, y_pred)\n",
    "\n",
    "# Print the accuracy score\n",
    "print(f'Accuracy with UFS and {ufs.k} features is {accuracy}')\n",
    "\n",
    "\n"
   ]
  }
 ],
 "metadata": {
  "colab": {
   "provenance": []
  },
  "kernelspec": {
   "display_name": "Python 3 (ipykernel)",
   "language": "python",
   "name": "python3"
  },
  "language_info": {
   "codemirror_mode": {
    "name": "ipython",
    "version": 3
   },
   "file_extension": ".py",
   "mimetype": "text/x-python",
   "name": "python",
   "nbconvert_exporter": "python",
   "pygments_lexer": "ipython3",
   "version": "3.9.16"
  }
 },
 "nbformat": 4,
 "nbformat_minor": 1
}
